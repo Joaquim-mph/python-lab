{
 "cells": [
  {
   "cell_type": "code",
   "execution_count": 1,
   "id": "ec9a7f75",
   "metadata": {},
   "outputs": [
    {
     "name": "stdout",
     "output_type": "stream",
     "text": [
      "✓ Applied 'prism_rain' theme\n",
      "✓ Applied 'prism_rain' theme\n"
     ]
    }
   ],
   "source": [
    "import matplotlib as mpl\n",
    "import matplotlib.pyplot as plt\n",
    "import scienceplots\n",
    "from src.styles import set_plot_style\n",
    "from src.plots import *\n",
    "from src.utils import load_and_prepare_metadata\n",
    "set_plot_style(\"prism_rain\")\n",
    "from src.utils import _proc_from_path, _file_index, _read_measurement"
   ]
  },
  {
   "cell_type": "code",
   "execution_count": 2,
   "id": "c4c6054c",
   "metadata": {},
   "outputs": [
    {
     "name": "stdout",
     "output_type": "stream",
     "text": [
      "saved figs/Encap79_IVg_sequence_metadata.png\n",
      "saved figs/Chip79_gm_sequence_metadata.png\n"
     ]
    }
   ],
   "source": [
    "METADATA_CSV = \"metadata/Alisson_04_sept/metadata.csv\"        # path to the table you pasted\n",
    "BASE_DIR     = Path(\".\")             # where the raw CSVs live, e.g. \"Alisson_04_sept/\"\n",
    "CHIP_NUMBER  = 79.0 \n",
    "meta = load_and_prepare_metadata(METADATA_CSV, CHIP_NUMBER)\n",
    "tag = Path(METADATA_CSV).stem\n",
    "\n",
    "good_ivgs = [4]  # the _NN.csv numbers you want\n",
    "\n",
    "meta_only_good_ivg = meta.filter(\n",
    "    (pl.col(\"proc\") == \"IVg\") & pl.col(\"file_idx\").is_in(good_ivgs)\n",
    ")\n",
    "\n",
    "# Reuse your existing plotter on this subset\n",
    "plot_ivg_sequence(meta_only_good_ivg, BASE_DIR, tag) \n",
    "plot_ivg_transconductance(meta_only_good_ivg, BASE_DIR, tag) "
   ]
  },
  {
   "cell_type": "code",
   "execution_count": 3,
   "id": "abc54f34",
   "metadata": {},
   "outputs": [
    {
     "name": "stdout",
     "output_type": "stream",
     "text": [
      "saved figs/Encap72_IVg_sequence_metadata.png\n",
      "saved figs/Chip72_gm_savgol_metadata.png\n",
      "saved figs/Chip72_gm_comparison_#2_metadata.png\n"
     ]
    }
   ],
   "source": [
    "METADATA_CSV = \"metadata/Alisson_08_sept/metadata.csv\"        # path to the table you pasted\n",
    "BASE_DIR     = Path(\".\")             # where the raw CSVs live, e.g. \"Alisson_04_sept/\"\n",
    "CHIP_NUMBER  = 72.0 \n",
    "meta = load_and_prepare_metadata(METADATA_CSV, CHIP_NUMBER)\n",
    "tag = Path(METADATA_CSV).stem\n",
    "\n",
    "good_ivgs = [4]  # the _NN.csv numbers you want\n",
    "\n",
    "meta_only_good_ivg = meta.filter(\n",
    "    (pl.col(\"proc\") == \"IVg\") & pl.col(\"file_idx\").is_in(good_ivgs)\n",
    ")\n",
    "\n",
    "# Reuse your existing plotter on this subset\n",
    "plot_ivg_sequence(meta, BASE_DIR, tag) \n",
    "plot_ivg_transconductance_savgol(meta, BASE_DIR, tag,\n",
    "                                min_segment_length= 3,\n",
    "                                window_length = 17,\n",
    "                                polyorder = 3) \n",
    "plot_savgol_comparison(meta, BASE_DIR, tag) \n",
    "plt.close()"
   ]
  },
  {
   "cell_type": "code",
   "execution_count": null,
   "id": "a24125f9",
   "metadata": {},
   "outputs": [],
   "source": []
  }
 ],
 "metadata": {
  "kernelspec": {
   "display_name": "python-lab",
   "language": "python",
   "name": "python3"
  },
  "language_info": {
   "codemirror_mode": {
    "name": "ipython",
    "version": 3
   },
   "file_extension": ".py",
   "mimetype": "text/x-python",
   "name": "python",
   "nbconvert_exporter": "python",
   "pygments_lexer": "ipython3",
   "version": "3.11.13"
  }
 },
 "nbformat": 4,
 "nbformat_minor": 5
}
