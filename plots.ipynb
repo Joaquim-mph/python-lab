{
 "cells": [
  {
   "cell_type": "code",
   "execution_count": 1,
   "id": "975a7c00",
   "metadata": {},
   "outputs": [
    {
     "name": "stdout",
     "output_type": "stream",
     "text": [
      "✓ Applied 'prism_rain' theme\n",
      "✓ Applied 'prism_rain' theme\n"
     ]
    }
   ],
   "source": [
    "import matplotlib as mpl\n",
    "import matplotlib.pyplot as plt\n",
    "import scienceplots\n",
    "from src.styles import set_plot_style\n",
    "from src.plots import *\n",
    "from src.utils import load_and_prepare_metadata\n",
    "set_plot_style(\"prism_rain\")\n",
    "from src.utils import _proc_from_path, _file_index, _read_measurement"
   ]
  },
  {
   "cell_type": "code",
   "execution_count": 2,
   "id": "a8368f60",
   "metadata": {},
   "outputs": [
    {
     "name": "stdout",
     "output_type": "stream",
     "text": [
      "saved figs/Encap79_IVg_sequence_metadata.png\n"
     ]
    }
   ],
   "source": [
    "METADATA_CSV = \"metadata/Alisson_04_sept/metadata.csv\"        # path to the table you pasted\n",
    "BASE_DIR     = Path(\".\")             # where the raw CSVs live, e.g. \"Alisson_04_sept/\"\n",
    "CHIP_NUMBER  = 79.0 \n",
    "meta = load_and_prepare_metadata(METADATA_CSV, CHIP_NUMBER)\n",
    "tag = Path(METADATA_CSV).stem\n",
    "good_ivgs = [3,4,5,6]  # the _NN.csv numbers you want\n",
    "\n",
    "meta_only_good_ivg = meta.filter(\n",
    "    (pl.col(\"proc\") == \"IVg\") & pl.col(\"file_idx\").is_in(good_ivgs)\n",
    ")\n",
    "\n",
    "# Reuse your existing plotter on this subset\n",
    "plot_ivg_sequence(meta_only_good_ivg, BASE_DIR, tag) "
   ]
  },
  {
   "cell_type": "code",
   "execution_count": 3,
   "id": "df82be6b",
   "metadata": {},
   "outputs": [
    {
     "name": "stdout",
     "output_type": "stream",
     "text": [
      "saved figs/Encap79_IVg_sequence_metadata.png\n"
     ]
    }
   ],
   "source": [
    "good_ivgs = [7,8,9,10,11]  # the _NN.csv numbers you want\n",
    "\n",
    "meta_only_good_ivg = meta.filter(\n",
    "    (pl.col(\"proc\") == \"IVg\") & pl.col(\"file_idx\").is_in(good_ivgs)\n",
    ")\n",
    "\n",
    "# Reuse your existing plotter on this subset\n",
    "plot_ivg_sequence(meta_only_good_ivg, BASE_DIR, tag) "
   ]
  },
  {
   "cell_type": "code",
   "execution_count": 4,
   "id": "97e60d44",
   "metadata": {},
   "outputs": [],
   "source": [
    "METADATA_CSV = \"metadata/Alisson_04_sept/metadata.csv\"        # path to the table you pasted\n",
    "BASE_DIR     = Path(\".\")             # where the raw CSVs live, e.g. \"Alisson_04_sept/\"\n",
    "CHIP_NUMBER  = 71.0  \n",
    "meta = load_and_prepare_metadata(METADATA_CSV, CHIP_NUMBER)\n",
    "bad_its = [3,10]\n",
    "meta_no_bad = meta.filter(~((pl.col(\"proc\") == \"ITS\") & (pl.col(\"file_idx\").is_in(bad_its))))\n",
    "# A tag to help separate different metadata files/folders in outputs\n",
    "tag = Path(METADATA_CSV).stem"
   ]
  },
  {
   "cell_type": "code",
   "execution_count": 5,
   "id": "9d7d56cb",
   "metadata": {},
   "outputs": [
    {
     "name": "stdout",
     "output_type": "stream",
     "text": [
      "saved figs/Encap71_IVg_sequence_metadata.png\n"
     ]
    }
   ],
   "source": [
    "good_ivgs = [19,20,21]  # the _NN.csv numbers you want\n",
    "\n",
    "meta_only_good_ivg = meta.filter(\n",
    "    (pl.col(\"proc\") == \"IVg\") & pl.col(\"file_idx\").is_in(good_ivgs)\n",
    ")\n",
    "\n",
    "# Reuse your existing plotter on this subset\n",
    "plot_ivg_sequence(meta_only_good_ivg, BASE_DIR, tag) \n",
    "#plot_ivg_sequence(meta, BASE_DIR, tag) "
   ]
  },
  {
   "cell_type": "code",
   "execution_count": 6,
   "id": "38966a7d",
   "metadata": {},
   "outputs": [
    {
     "name": "stdout",
     "output_type": "stream",
     "text": [
      "saved figs/Encap71_IVg_sequence_metadata.png\n"
     ]
    }
   ],
   "source": [
    "good_ivgs = [25]  # the _NN.csv numbers you want\n",
    "\n",
    "meta_only_good_ivg = meta.filter(\n",
    "    (pl.col(\"proc\") == \"IVg\") & pl.col(\"file_idx\").is_in(good_ivgs)\n",
    ")\n",
    "\n",
    "# Reuse your existing plotter on this subset\n",
    "plot_ivg_sequence(meta_only_good_ivg, BASE_DIR, tag) "
   ]
  },
  {
   "cell_type": "code",
   "execution_count": 7,
   "id": "7c457608",
   "metadata": {},
   "outputs": [
    {
     "name": "stdout",
     "output_type": "stream",
     "text": [
      "saved figs/chip71_ITS_overlay_Vgm2p0_455nm_metadata.png\n"
     ]
    }
   ],
   "source": [
    "\n",
    "\n",
    "# then use meta_no_bad everywhere you plot ITS\n",
    "plot_its_by_vg(meta_no_bad, BASE_DIR, tag, vgs=[-2.0], wavelengths=[455.0])    # or all Vg "
   ]
  },
  {
   "cell_type": "code",
   "execution_count": 8,
   "id": "b64f05d8",
   "metadata": {},
   "outputs": [
    {
     "name": "stdout",
     "output_type": "stream",
     "text": [
      "saved figs/Encap71_IVg_sequence_metadata.png\n"
     ]
    }
   ],
   "source": [
    "good_ivgs = [13, 25, 26, 33]  # the _NN.csv numbers you want\n",
    "\n",
    "meta_only_good_ivg = meta.filter(\n",
    "    (pl.col(\"proc\") == \"IVg\") & pl.col(\"file_idx\").is_in(good_ivgs)\n",
    ")\n",
    "\n",
    "# Reuse your existing plotter on this subset\n",
    "plot_ivg_sequence(meta_only_good_ivg, BASE_DIR, tag) "
   ]
  },
  {
   "cell_type": "code",
   "execution_count": 9,
   "id": "168d1629",
   "metadata": {},
   "outputs": [
    {
     "name": "stdout",
     "output_type": "stream",
     "text": [
      "saved figs/chip71_ITS_overlay_Vgm2p0_455nm_metadata.png\n"
     ]
    }
   ],
   "source": [
    "meta = load_and_prepare_metadata(METADATA_CSV, CHIP_NUMBER)\n",
    "bad_its = [3,4,5,6]\n",
    "meta_no_bad = meta.filter(~((pl.col(\"proc\") == \"ITS\") & (pl.col(\"file_idx\").is_in(bad_its))))\n",
    "# A tag to help separate different metadata files/folders in outputs\n",
    "tag = Path(METADATA_CSV).stem\n",
    "\n",
    "# then use meta_no_bad everywhere you plot ITS\n",
    "plot_its_by_vg(meta_no_bad, BASE_DIR, tag, vgs=[-2.0], wavelengths=[455.0])    # or all Vg "
   ]
  },
  {
   "cell_type": "code",
   "execution_count": 10,
   "id": "8bcf25e4",
   "metadata": {},
   "outputs": [
    {
     "name": "stdout",
     "output_type": "stream",
     "text": [
      "saved figs/Chip71_IVg_last_day1_first_day2_metadata_vs_metadata.png\n"
     ]
    }
   ],
   "source": [
    "from pathlib import Path\n",
    "import polars as pl\n",
    "import matplotlib.pyplot as plt\n",
    "from src.plots import _read_measurement\n",
    "\n",
    "\n",
    "# Day 1\n",
    "CSV1 = \"metadata/Alisson_04_sept/metadata.csv\"  \n",
    "BASE1 = Path(\".\")\n",
    "meta1 = load_and_prepare_metadata(CSV1, CHIP_NUMBER)\n",
    "\n",
    "# Day 2\n",
    "CSV2 = \"metadata/Alisson_05_sept/metadata.csv\"\n",
    "BASE2 = Path(\".\")\n",
    "meta2 = load_and_prepare_metadata(CSV2, CHIP_NUMBER)\n",
    "\n",
    "tag = f\"{Path(CSV1).stem}_vs_{Path(CSV2).stem}\"\n",
    "\n",
    "plot_ivg_last_of_day1_vs_first_of_day2(meta1, meta2, BASE1, BASE2, tag)\n"
   ]
  },
  {
   "cell_type": "code",
   "execution_count": 11,
   "id": "bef99d55",
   "metadata": {},
   "outputs": [
    {
     "name": "stdout",
     "output_type": "stream",
     "text": [
      "saved figs/chip71_ITS_overlay_Vgm3p0_455nm_metadata.png\n",
      "saved figs/chip71_ITS_overlay_Vg3p0_455nm_metadata.png\n",
      "saved figs/chip71_ITS_overlay_Vgm5p0_455nm_metadata.png\n",
      "saved figs/chip71_ITS_overlay_Vg5p0_455nm_metadata.png\n"
     ]
    }
   ],
   "source": [
    "METADATA_CSV = \"metadata/Alisson_05_sept/metadata.csv\"        # path to the table you pasted\n",
    "BASE_DIR     = Path(\".\")             # where the raw CSVs live, e.g. \"Alisson_04_sept/\"\n",
    "CHIP_NUMBER  = 71.0  \n",
    "\n",
    "meta = load_and_prepare_metadata(METADATA_CSV, CHIP_NUMBER)\n",
    "\n",
    "tag = Path(METADATA_CSV).stem\n",
    "# then use meta_no_bad everywhere you plot ITS\n",
    "plot_its_by_vg(meta, BASE_DIR, tag, vgs=[-3.0], wavelengths=[455.0]) \n",
    "plot_its_by_vg(meta, BASE_DIR, tag, vgs=[3.0], wavelengths=[455.0]) \n",
    "plot_its_by_vg(meta, BASE_DIR, tag, vgs=[-5.0], wavelengths=[455.0]) \n",
    "plot_its_by_vg(meta, BASE_DIR, tag, vgs=[5.0], wavelengths=[455.0])  "
   ]
  },
  {
   "cell_type": "code",
   "execution_count": 12,
   "id": "b806481d",
   "metadata": {},
   "outputs": [
    {
     "name": "stdout",
     "output_type": "stream",
     "text": [
      "saved figs/chip71_ITS_overlay_Vgm3p0_365nm_metadata.png\n",
      "saved figs/chip71_ITS_overlay_Vg3p0_365nm_metadata.png\n",
      "saved figs/chip71_ITS_overlay_Vgm5p0_365nm_metadata.png\n",
      "saved figs/chip71_ITS_overlay_Vg5p0_365nm_metadata.png\n"
     ]
    }
   ],
   "source": [
    "plot_its_by_vg(meta, BASE_DIR, tag, vgs=[-3.0], wavelengths=[365.0]) \n",
    "plot_its_by_vg(meta, BASE_DIR, tag, vgs=[3.0], wavelengths=[365.0]) \n",
    "plot_its_by_vg(meta, BASE_DIR, tag, vgs=[-5.0], wavelengths=[365.0]) \n",
    "plot_its_by_vg(meta, BASE_DIR, tag, vgs=[5.0], wavelengths=[365.0])"
   ]
  },
  {
   "cell_type": "code",
   "execution_count": 13,
   "id": "99063380",
   "metadata": {},
   "outputs": [
    {
     "name": "stdout",
     "output_type": "stream",
     "text": [
      "saved figs/Encap71_IVg_sequence_metadata.png\n",
      "saved figs/Chip71_gm_sequence_metadata.png\n"
     ]
    }
   ],
   "source": [
    "good_ivgs = [1]  # the _NN.csv numbers you want\n",
    "\n",
    "meta_only_good_ivg = meta.filter(\n",
    "    (pl.col(\"proc\") == \"IVg\") & pl.col(\"file_idx\").is_in(good_ivgs)\n",
    ")\n",
    "\n",
    "# Reuse your existing plotter on this subset\n",
    "plot_ivg_sequence(meta_only_good_ivg, BASE_DIR, tag)\n",
    "plot_ivg_transconductance(meta_only_good_ivg, BASE_DIR, tag)"
   ]
  },
  {
   "cell_type": "code",
   "execution_count": 14,
   "id": "bd329a7c",
   "metadata": {},
   "outputs": [
    {
     "name": "stdout",
     "output_type": "stream",
     "text": [
      "saved figs/Encap71_IVg_sequence_metadata.png\n"
     ]
    }
   ],
   "source": [
    "METADATA_CSV = \"metadata/Alisson_12_sept/metadata.csv\"        # path to the table you pasted\n",
    "BASE_DIR     = Path(\".\")             # where the raw CSVs live, e.g. \"Alisson_04_sept/\"\n",
    "CHIP_NUMBER  = 71.0 \n",
    "meta = load_and_prepare_metadata(METADATA_CSV, CHIP_NUMBER)\n",
    "tag = Path(METADATA_CSV).stem\n",
    "\n",
    "# Reuse your existing plotter on this subset\n",
    "plot_ivg_sequence(meta, BASE_DIR, tag) "
   ]
  },
  {
   "cell_type": "code",
   "execution_count": 15,
   "id": "92fc9a3d",
   "metadata": {},
   "outputs": [
    {
     "name": "stdout",
     "output_type": "stream",
     "text": [
      "saved figs/Encap67_IVg_sequence_metadata.png\n"
     ]
    }
   ],
   "source": [
    "METADATA_CSV = \"metadata/Alisson_08_sept/metadata.csv\"        # path to the table you pasted\n",
    "BASE_DIR     = Path(\".\")             # where the raw CSVs live, e.g. \"Alisson_04_sept/\"\n",
    "CHIP_NUMBER  = 67.0 \n",
    "meta = load_and_prepare_metadata(METADATA_CSV, CHIP_NUMBER)\n",
    "tag = Path(METADATA_CSV).stem\n",
    "\n",
    "# Reuse your existing plotter on this subset\n",
    "plot_ivg_sequence(meta, BASE_DIR, tag) "
   ]
  },
  {
   "cell_type": "code",
   "execution_count": null,
   "id": "31ce02bc",
   "metadata": {},
   "outputs": [],
   "source": []
  },
  {
   "cell_type": "code",
   "execution_count": 16,
   "id": "f580cbbe",
   "metadata": {},
   "outputs": [
    {
     "name": "stdout",
     "output_type": "stream",
     "text": [
      "saved figs/Encap72_IVg_sequence_metadata.png\n"
     ]
    }
   ],
   "source": [
    "CHIP_NUMBER  = 72.0 \n",
    "meta = load_and_prepare_metadata(METADATA_CSV, CHIP_NUMBER)\n",
    "tag = Path(METADATA_CSV).stem\n",
    "\n",
    "# Reuse your existing plotter on this subset\n",
    "plot_ivg_sequence(meta, BASE_DIR, tag) "
   ]
  },
  {
   "cell_type": "code",
   "execution_count": 17,
   "id": "5af37975",
   "metadata": {},
   "outputs": [
    {
     "name": "stderr",
     "output_type": "stream",
     "text": [
      "/Users/mphstph/python-lab/src/plots.py:395: RuntimeWarning: More than 20 figures have been opened. Figures created through the pyplot interface (`matplotlib.pyplot.figure`) are retained until explicitly closed and may consume too much memory. (To control this warning, see the rcParam `figure.max_open_warning`). Consider using `matplotlib.pyplot.close()`.\n",
      "  plt.figure()\n"
     ]
    },
    {
     "name": "stdout",
     "output_type": "stream",
     "text": [
      "saved figs/Encap68_IVg_sequence_metadata.png\n"
     ]
    }
   ],
   "source": [
    "CHIP_NUMBER  = 68.0 \n",
    "meta = load_and_prepare_metadata(METADATA_CSV, CHIP_NUMBER)\n",
    "tag = Path(METADATA_CSV).stem\n",
    "\n",
    "# Reuse your existing plotter on this subset\n",
    "plot_ivg_sequence(meta, BASE_DIR, tag) "
   ]
  },
  {
   "cell_type": "code",
   "execution_count": 18,
   "id": "6bd53d74",
   "metadata": {},
   "outputs": [
    {
     "name": "stdout",
     "output_type": "stream",
     "text": [
      "saved figs/Encap69_IVg_sequence_metadata.png\n"
     ]
    }
   ],
   "source": [
    "CHIP_NUMBER  = 69.0 \n",
    "meta = load_and_prepare_metadata(METADATA_CSV, CHIP_NUMBER)\n",
    "tag = Path(METADATA_CSV).stem\n",
    "\n",
    "# Reuse your existing plotter on this subset\n",
    "plot_ivg_sequence(meta, BASE_DIR, tag) "
   ]
  },
  {
   "cell_type": "code",
   "execution_count": 19,
   "id": "c51aebd2",
   "metadata": {},
   "outputs": [
    {
     "name": "stdout",
     "output_type": "stream",
     "text": [
      "saved figs/Encap73_IVg_sequence_metadata.png\n"
     ]
    }
   ],
   "source": [
    "CHIP_NUMBER  = 73.0 \n",
    "meta = load_and_prepare_metadata(METADATA_CSV, CHIP_NUMBER)\n",
    "tag = Path(METADATA_CSV).stem\n",
    "\n",
    "# Reuse your existing plotter on this subset\n",
    "plot_ivg_sequence(meta, BASE_DIR, tag) "
   ]
  },
  {
   "cell_type": "code",
   "execution_count": 20,
   "id": "bad0873d",
   "metadata": {},
   "outputs": [
    {
     "name": "stdout",
     "output_type": "stream",
     "text": [
      "saved figs/Encap74_IVg_sequence_metadata.png\n"
     ]
    }
   ],
   "source": [
    "CHIP_NUMBER  = 74.0 \n",
    "meta = load_and_prepare_metadata(METADATA_CSV, CHIP_NUMBER)\n",
    "tag = Path(METADATA_CSV).stem\n",
    "\n",
    "# Reuse your existing plotter on this subset\n",
    "plot_ivg_sequence(meta, BASE_DIR, tag) "
   ]
  },
  {
   "cell_type": "code",
   "execution_count": 21,
   "id": "d40e33db",
   "metadata": {},
   "outputs": [
    {
     "name": "stdout",
     "output_type": "stream",
     "text": [
      "saved figs/Encap75_IVg_sequence_metadata.png\n"
     ]
    }
   ],
   "source": [
    "CHIP_NUMBER  = 75.0 \n",
    "meta = load_and_prepare_metadata(METADATA_CSV, CHIP_NUMBER)\n",
    "tag = Path(METADATA_CSV).stem\n",
    "\n",
    "# Reuse your existing plotter on this subset\n",
    "plot_ivg_sequence(meta, BASE_DIR, tag) "
   ]
  },
  {
   "cell_type": "code",
   "execution_count": 22,
   "id": "218da48a",
   "metadata": {},
   "outputs": [
    {
     "name": "stdout",
     "output_type": "stream",
     "text": [
      "saved figs/Encap76_IVg_sequence_metadata.png\n"
     ]
    }
   ],
   "source": [
    "CHIP_NUMBER  = 76.0 \n",
    "meta = load_and_prepare_metadata(METADATA_CSV, CHIP_NUMBER)\n",
    "tag = Path(METADATA_CSV).stem\n",
    "\n",
    "# Reuse your existing plotter on this subset\n",
    "plot_ivg_sequence(meta, BASE_DIR, tag) "
   ]
  },
  {
   "cell_type": "code",
   "execution_count": 23,
   "id": "6313cf8c",
   "metadata": {},
   "outputs": [
    {
     "name": "stdout",
     "output_type": "stream",
     "text": [
      "saved figs/Encap80_IVg_sequence_metadata.png\n"
     ]
    }
   ],
   "source": [
    "CHIP_NUMBER  = 80.0 \n",
    "meta = load_and_prepare_metadata(METADATA_CSV, CHIP_NUMBER)\n",
    "tag = Path(METADATA_CSV).stem\n",
    "\n",
    "# Reuse your existing plotter on this subset\n",
    "plot_ivg_sequence(meta, BASE_DIR, tag) "
   ]
  },
  {
   "cell_type": "code",
   "execution_count": 24,
   "id": "3e8a04d4",
   "metadata": {},
   "outputs": [
    {
     "name": "stdout",
     "output_type": "stream",
     "text": [
      "saved figs/Encap81_IVg_sequence_metadata.png\n"
     ]
    }
   ],
   "source": [
    "CHIP_NUMBER  = 81.0 \n",
    "meta = load_and_prepare_metadata(METADATA_CSV, CHIP_NUMBER)\n",
    "tag = Path(METADATA_CSV).stem\n",
    "\n",
    "# Reuse your existing plotter on this subset\n",
    "plot_ivg_sequence(meta, BASE_DIR, tag) "
   ]
  },
  {
   "cell_type": "code",
   "execution_count": null,
   "id": "4dc6849a",
   "metadata": {},
   "outputs": [],
   "source": [
    "CHIP_NUMBER  = 100.0 \n",
    "meta = load_and_prepare_metadata(METADATA_CSV, CHIP_NUMBER)\n",
    "tag = Path(METADATA_CSV).stem\n",
    "\n",
    "# Reuse your existing plotter on this subset\n",
    "plot_ivg_sequence(meta, BASE_DIR, tag) "
   ]
  },
  {
   "cell_type": "code",
   "execution_count": null,
   "id": "9a8f3bb4",
   "metadata": {},
   "outputs": [
    {
     "name": "stdout",
     "output_type": "stream",
     "text": [
      "saved figs/Encap101_IVg_sequence_metadata.png\n",
      "saved figs/Chip101_gm_savgol_metadata.png\n"
     ]
    }
   ],
   "source": [
    "CHIP_NUMBER  = 101.0 \n",
    "meta = load_and_prepare_metadata(METADATA_CSV, CHIP_NUMBER)\n",
    "tag = Path(METADATA_CSV).stem\n",
    "\n",
    "# Reuse your existing plotter on this subset\n",
    "plot_ivg_sequence(meta, BASE_DIR, tag) \n",
    "plot_ivg_transconductance_savgol(meta, BASE_DIR, tag,\n",
    "                                min_segment_length= 3,\n",
    "                                window_length = 17,\n",
    "                                polyorder = 3) "
   ]
  }
 ],
 "metadata": {
  "kernelspec": {
   "display_name": "python-lab",
   "language": "python",
   "name": "python3"
  },
  "language_info": {
   "codemirror_mode": {
    "name": "ipython",
    "version": 3
   },
   "file_extension": ".py",
   "mimetype": "text/x-python",
   "name": "python",
   "nbconvert_exporter": "python",
   "pygments_lexer": "ipython3",
   "version": "3.11.13"
  }
 },
 "nbformat": 4,
 "nbformat_minor": 5
}
