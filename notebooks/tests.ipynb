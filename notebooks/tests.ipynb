{
 "cells": [
  {
   "cell_type": "code",
   "execution_count": 1,
   "id": "ec9a7f75",
   "metadata": {},
   "outputs": [
    {
     "name": "stdout",
     "output_type": "stream",
     "text": [
      "✓ Applied 'prism_rain' theme\n",
      "✓ Applied 'prism_rain' theme\n"
     ]
    }
   ],
   "source": [
    "import matplotlib as mpl\n",
    "import matplotlib.pyplot as plt\n",
    "import scienceplots\n",
    "from src.styles import set_plot_style\n",
    "from src.plots import *\n",
    "from src.utils import load_and_prepare_metadata\n",
    "set_plot_style(\"prism_rain\")\n",
    "from src.utils import _proc_from_path, _file_index, _read_measurement"
   ]
  },
  {
   "cell_type": "code",
   "execution_count": 2,
   "id": "c4c6054c",
   "metadata": {},
   "outputs": [
    {
     "name": "stdout",
     "output_type": "stream",
     "text": [
      "saved figs/Encap79_IVg_sequence_metadata.png\n",
      "saved figs/Chip79_gm_sequence_metadata.png\n"
     ]
    }
   ],
   "source": [
    "METADATA_CSV = \"metadata/Alisson_04_sept/metadata.csv\"        # path to the table you pasted\n",
    "BASE_DIR     = Path(\".\")             # where the raw CSVs live, e.g. \"Alisson_04_sept/\"\n",
    "CHIP_NUMBER  = 79.0 \n",
    "meta = load_and_prepare_metadata(METADATA_CSV, CHIP_NUMBER)\n",
    "tag = Path(METADATA_CSV).stem\n",
    "\n",
    "good_ivgs = [4]  # the _NN.csv numbers you want\n",
    "\n",
    "meta_only_good_ivg = meta.filter(\n",
    "    (pl.col(\"proc\") == \"IVg\") & pl.col(\"file_idx\").is_in(good_ivgs)\n",
    ")\n",
    "\n",
    "# Reuse your existing plotter on this subset\n",
    "plot_ivg_sequence(meta_only_good_ivg, BASE_DIR, tag) \n",
    "plot_ivg_transconductance(meta_only_good_ivg, BASE_DIR, tag) "
   ]
  },
  {
   "cell_type": "code",
   "execution_count": 3,
   "id": "abc54f34",
   "metadata": {},
   "outputs": [
    {
     "name": "stdout",
     "output_type": "stream",
     "text": [
      "saved figs/Encap72_IVg_sequence_metadata.png\n",
      "saved figs/Chip72_gm_savgol_metadata.png\n",
      "saved figs/Chip72_gm_comparison_#2_metadata.png\n"
     ]
    }
   ],
   "source": [
    "METADATA_CSV = \"metadata/Alisson_08_sept/metadata.csv\"        # path to the table you pasted\n",
    "BASE_DIR     = Path(\".\")             # where the raw CSVs live, e.g. \"Alisson_04_sept/\"\n",
    "CHIP_NUMBER  = 72.0 \n",
    "meta = load_and_prepare_metadata(METADATA_CSV, CHIP_NUMBER)\n",
    "tag = Path(METADATA_CSV).stem\n",
    "\n",
    "good_ivgs = [4]  # the _NN.csv numbers you want\n",
    "\n",
    "meta_only_good_ivg = meta.filter(\n",
    "    (pl.col(\"proc\") == \"IVg\") & pl.col(\"file_idx\").is_in(good_ivgs)\n",
    ")\n",
    "\n",
    "# Reuse your existing plotter on this subset\n",
    "plot_ivg_sequence(meta, BASE_DIR, tag) \n",
    "plot_ivg_transconductance_savgol(meta, BASE_DIR, tag,\n",
    "                                min_segment_length= 3,\n",
    "                                window_length = 17,\n",
    "                                polyorder = 3) \n",
    "plot_savgol_comparison(meta, BASE_DIR, tag) \n",
    "plt.close()"
   ]
  },
  {
   "cell_type": "code",
   "execution_count": 6,
   "id": "a24125f9",
   "metadata": {},
   "outputs": [
    {
     "name": "stdout",
     "output_type": "stream",
     "text": [
      "\n",
      "================================================================================\n",
      "Complete Experiment History: Alisson67\n",
      "Total experiments: 71\n",
      "Date range: 2025-09-08 to 2025-10-16\n",
      "================================================================================\n",
      "\n",
      "─── 2025-09-08 (Alisson_08_sept) ──────────────────────────────────────────────────\n",
      "   1  12:26:20  IVg Alisson67  VDS=0.1 V  VG:-5.0→5.0 (step 0.05)  #1\n",
      "\n",
      "─── 2025-10-14 (2025-10-14) ──────────────────────────────────────────────────\n",
      "   2  15:03:53  IVg Alisson67  VDS=0.1 V  VG:-5.0→5.0 (step 0.05)  #6\n",
      "   3  15:12:05  IVg Alisson67  VDS=0.1 V  VG:-5.0→5.0 (step 0.05)  #7\n",
      "   4  15:13:12  It  Alisson67  VG=-0.35 V  VDS=0.1 V  VL=1.15 V  λ=455.0 nm  period=120.0 s  #10\n",
      "   5  15:16:12  It  Alisson67  VG=-0.35 V  VDS=0.1 V  VL=2.19 V  λ=455.0 nm  period=120.0 s  #11\n",
      "   6  15:19:12  It  Alisson67  VG=-0.35 V  VDS=0.1 V  VL=3.28 V  λ=455.0 nm  period=120.0 s  #12\n",
      "   7  15:22:12  It  Alisson67  VG=-0.35 V  VDS=0.1 V  VL=4.41 V  λ=455.0 nm  period=120.0 s  #13\n",
      "   8  16:08:35  IVg Alisson67  VDS=0.1 V  VG:-5.0→5.0 (step 0.05)  #8\n",
      "   9  16:10:44  It  Alisson67  VG=0.2 V  VDS=0.1 V  VL=1.15 V  λ=455.0 nm  period=120.0 s  #14\n",
      "  10  16:13:44  It  Alisson67  VG=0.2 V  VDS=0.1 V  VL=2.29 V  λ=455.0 nm  period=120.0 s  #15\n",
      "  11  16:16:44  It  Alisson67  VG=0.2 V  VDS=0.1 V  VL=3.28 V  λ=455.0 nm  period=120.0 s  #16\n",
      "  12  16:19:44  It  Alisson67  VG=0.2 V  VDS=0.1 V  VL=4.41 V  λ=455.0 nm  period=120.0 s  #17\n",
      "  13  16:23:51  IVg Alisson67  VDS=0.1 V  VG:-5.0→5.0 (step 0.05)  #9\n",
      "  14  16:37:01  IVg Alisson67  VDS=0.1 V  VG:-5.0→5.0 (step 0.05)  #10\n",
      "  15  16:39:10  It  Alisson67  VG=-0.35 V  VDS=0.1 V  VL=0.99 V  λ=405.0 nm  period=120.0 s  #18\n",
      "  16  16:42:11  It  Alisson67  VG=-0.35 V  VDS=0.1 V  VL=1.9 V  λ=405.0 nm  period=120.0 s  #19\n",
      "  17  16:45:11  It  Alisson67  VG=-0.35 V  VDS=0.1 V  VL=2.83 V  λ=405.0 nm  period=120.0 s  #20\n",
      "  18  16:48:11  It  Alisson67  VG=-0.35 V  VDS=0.1 V  VL=3.77 V  λ=405.0 nm  period=120.0 s  #21\n",
      "  19  16:52:11  IVg Alisson67  VDS=0.1 V  VG:-5.0→5.0 (step 0.05)  #11\n",
      "  20  17:05:31  IVg Alisson67  VDS=0.1 V  VG:-5.0→5.0 (step 0.05)  #12\n",
      "  21  17:06:42  It  Alisson67  VG=0.2 V  VDS=0.1 V  VL=0.99 V  λ=405.0 nm  period=120.0 s  #22\n",
      "  22  17:09:42  It  Alisson67  VG=0.2 V  VDS=0.1 V  VL=1.9 V  λ=405.0 nm  period=120.0 s  #23\n",
      "  23  17:12:42  It  Alisson67  VG=0.2 V  VDS=0.1 V  VL=2.83 V  λ=405.0 nm  period=120.0 s  #24\n",
      "  24  17:15:42  It  Alisson67  VG=0.2 V  VDS=0.1 V  VL=3.77 V  λ=405.0 nm  period=120.0 s  #25\n",
      "  25  17:21:17  IVg Alisson67  VDS=0.1 V  VG:-5.0→5.0 (step 0.05)  #13\n",
      "  26  18:12:32  IVg Alisson67  VDS=0.1 V  VG:-5.0→5.0 (step 0.05)  #14\n",
      "  27  18:15:38  It  Alisson67  VG=-0.4 V  VDS=0.1 V  VL=0.91 V  λ=385.0 nm  period=120.0 s  #26\n",
      "  28  18:18:38  It  Alisson67  VG=-0.4 V  VDS=0.1 V  VL=1.77 V  λ=385.0 nm  period=120.0 s  #27\n",
      "  29  18:21:38  It  Alisson67  VG=-0.4 V  VDS=0.1 V  VL=2.7 V  λ=385.0 nm  period=120.0 s  #28\n",
      "  30  18:24:38  It  Alisson67  VG=-0.4 V  VDS=0.1 V  VL=3.67 V  λ=385.0 nm  period=120.0 s  #29\n",
      "  31  18:31:11  IVg Alisson67  VDS=0.1 V  VG:-5.0→5.0 (step 0.05)  #15\n",
      "  32  18:33:38  It  Alisson67  VG=0.2 V  VDS=0.1 V  VL=0.91 V  λ=385.0 nm  period=120.0 s  #30\n",
      "  33  18:36:38  It  Alisson67  VG=0.2 V  VDS=0.1 V  VL=1.77 V  λ=385.0 nm  period=120.0 s  #31\n",
      "  34  18:39:39  It  Alisson67  VG=0.2 V  VDS=0.1 V  VL=2.7 V  λ=385.0 nm  period=120.0 s  #32\n",
      "  35  18:42:39  It  Alisson67  VG=0.2 V  VDS=0.1 V  VL=3.67 V  λ=385.0 nm  period=120.0 s  #33\n",
      "  36  18:45:57  IVg Alisson67  VDS=0.1 V  VG:-5.0→5.0 (step 0.05)  #16\n",
      "  37  18:58:05  IVg Alisson67  VDS=0.1 V  VG:-5.0→5.0 (step 0.05)  #17\n",
      "  38  18:59:40  It  Alisson67  VG=-0.4 V  VDS=0.1 V  VL=1.05 V  λ=365.0 nm  period=120.0 s  #34\n",
      "  39  19:02:40  It  Alisson67  VG=-0.4 V  VDS=0.1 V  VL=2.15 V  λ=365.0 nm  period=120.0 s  #35\n",
      "  40  19:04:33  IVg Alisson67  VDS=0.1 V  VG:-5.0→5.0 (step 0.05)  #18\n",
      "  41  19:07:08  It  Alisson67  VG=-0.4 V  VDS=0.1 V  VL=1.05 V  λ=365.0 nm  period=120.0 s  #36\n",
      "  42  19:10:09  It  Alisson67  VG=-0.4 V  VDS=0.1 V  VL=2.15 V  λ=365.0 nm  period=120.0 s  #37\n",
      "  43  19:13:09  It  Alisson67  VG=-0.4 V  VDS=0.1 V  VL=3.34 V  λ=365.0 nm  period=120.0 s  #38\n",
      "  44  19:16:09  It  Alisson67  VG=-0.4 V  VDS=0.1 V  VL=4.6 V  λ=365.0 nm  period=120.0 s  #39\n",
      "  45  19:29:45  IVg Alisson67  VDS=0.1 V  VG:-5.0→5.0 (step 0.05)  #19\n",
      "  46  19:31:39  It  Alisson67  VG=0.2 V  VDS=0.1 V  VL=1.05 V  λ=365.0 nm  period=120.0 s  #40\n",
      "  47  19:34:39  It  Alisson67  VG=0.2 V  VDS=0.1 V  VL=2.15 V  λ=365.0 nm  period=120.0 s  #41\n",
      "  48  19:37:39  It  Alisson67  VG=0.2 V  VDS=0.1 V  VL=3.34 V  λ=365.0 nm  period=120.0 s  #42\n",
      "  49  19:40:39  It  Alisson67  VG=0.2 V  VDS=0.1 V  VL=4.6 V  λ=365.0 nm  period=120.0 s  #43\n",
      "  50  19:50:28  IVg Alisson67  VDS=0.1 V  VG:-5.0→5.0 (step 0.05)  #20\n",
      "\n",
      "─── 2025-10-15 (2025-10-15) ──────────────────────────────────────────────────\n",
      "  51  10:07:45  IVg Alisson67  VDS=0.1 V  VG:-5.0→5.0 (step 0.05)  #1\n",
      "  52  10:47:50  It  Alisson67  VG=-0.4 V  VDS=0.1 V  VL=1.05 V  λ=365.0 nm  period=120.0 s  #1\n",
      "  53  10:56:59  IVg Alisson67  VDS=0.1 V  VG:-5.0→5.0 (step 0.05)  #2\n",
      "  54  15:14:10  IVg Alisson67  VDS=0.1 V  VG:-5.0→5.0 (step 0.05)  #3\n",
      "\n",
      "─── 2025-10-16 (2025-10-16) ──────────────────────────────────────────────────\n",
      "  55  12:00:59  IVg Alisson67  VDS=0.1 V  VG:-5.0→5.0 (step 0.05)  #1\n",
      "  56  12:02:18  IVg Alisson67  VDS=0.1 V  VG:-5.0→5.0 (step 0.05)  #2\n",
      "  57  12:03:23  It  Alisson67  VG=-0.4 V  VDS=0.1 V  VL=1.05 V  λ=365.0 nm  period=120.0 s  #1\n",
      "  58  12:07:19  It  Alisson67  VG=-0.4 V  VDS=0.1 V  VL=2.15 V  λ=365.0 nm  period=120.0 s  #2\n",
      "  59  12:10:21  It  Alisson67  VG=-0.4 V  VDS=0.1 V  VL=3.34 V  λ=365.0 nm  period=120.0 s  #3\n",
      "  60  12:13:24  It  Alisson67  VG=-0.4 V  VDS=0.1 V  VL=4.6 V  λ=365.0 nm  period=120.0 s  #4\n",
      "  61  12:16:44  IVg Alisson67  VDS=0.1 V  VG:-5.0→5.0 (step 0.05)  #3\n",
      "  62  12:26:01  IVg Alisson67  VDS=0.1 V  VG:-5.0→5.0 (step 0.05)  #4\n",
      "  63  12:47:52  IVg Alisson67  VDS=0.1 V  VG:-5.0→5.0 (step 0.05)  #5\n",
      "  64  14:43:52  IVg Alisson67  VDS=0.1 V  VG:-5.0→5.0 (step 0.05)  #6\n",
      "  65  14:45:25  It  Alisson67  VG=-0.4 V  VDS=0.1 V  VL=1.05 V  λ=365.0 nm  period=120.0 s  #5\n",
      "  66  14:48:28  It  Alisson67  VG=-0.4 V  VDS=0.1 V  VL=0.0 V  λ=365.0 nm  period=2000.0 s  #6\n",
      "  67  15:41:33  IVg Alisson67  VDS=0.1 V  VG:-5.0→5.0 (step 0.05)  #7\n",
      "  68  16:10:30  IVg Alisson67  VDS=0.1 V  VG:-5.0→5.0 (step 0.05)  #8\n",
      "  69  17:37:49  IVg Alisson67  VDS=0.1 V  VG:-5.0→5.0 (step 0.05)  #9\n",
      "  70  23:57:44  IVg Alisson67  VDS=0.1 V  VG:-5.0→5.0 (step 0.05)  #10\n",
      "  71  23:58:59  IVg Alisson67  VDS=0.1 V  VG:-5.0→5.0 (step 0.01)  #11\n",
      "\n",
      "================================================================================\n",
      "\n",
      "✓ Saved complete history to: Alisson67_history.csv\n"
     ]
    },
    {
     "data": {
      "text/html": [
       "<div><style>\n",
       ".dataframe > thead > tr,\n",
       ".dataframe > tbody > tr {\n",
       "  text-align: right;\n",
       "  white-space: pre-wrap;\n",
       "}\n",
       "</style>\n",
       "<small>shape: (71, 9)</small><table border=\"1\" class=\"dataframe\"><thead><tr><th>seq</th><th>date</th><th>time_hms</th><th>proc</th><th>summary</th><th>source_file</th><th>file_idx</th><th>start_time</th><th>day_folder</th></tr><tr><td>i64</td><td>str</td><td>str</td><td>str</td><td>str</td><td>str</td><td>i64</td><td>f64</td><td>str</td></tr></thead><tbody><tr><td>1</td><td>&quot;2025-09-08&quot;</td><td>&quot;12:26:20&quot;</td><td>&quot;IVg&quot;</td><td>&quot;IVg Alisson67&nbsp;&nbsp;VDS=0.1 V&nbsp;&nbsp;VG:-…</td><td>&quot;raw_data/Alisson_08_sept/IVg20…</td><td>1</td><td>1.7573e9</td><td>&quot;Alisson_08_sept&quot;</td></tr><tr><td>2</td><td>&quot;2025-10-14&quot;</td><td>&quot;15:03:53&quot;</td><td>&quot;IVg&quot;</td><td>&quot;IVg Alisson67&nbsp;&nbsp;VDS=0.1 V&nbsp;&nbsp;VG:-…</td><td>&quot;raw_data/2025-10-14/IVg2025-10…</td><td>6</td><td>1.7605e9</td><td>&quot;2025-10-14&quot;</td></tr><tr><td>3</td><td>&quot;2025-10-14&quot;</td><td>&quot;15:12:05&quot;</td><td>&quot;IVg&quot;</td><td>&quot;IVg Alisson67&nbsp;&nbsp;VDS=0.1 V&nbsp;&nbsp;VG:-…</td><td>&quot;raw_data/2025-10-14/IVg2025-10…</td><td>7</td><td>1.7605e9</td><td>&quot;2025-10-14&quot;</td></tr><tr><td>4</td><td>&quot;2025-10-14&quot;</td><td>&quot;15:13:12&quot;</td><td>&quot;It&quot;</td><td>&quot;It&nbsp;&nbsp;Alisson67&nbsp;&nbsp;VG=-0.35 V&nbsp;&nbsp;VDS…</td><td>&quot;raw_data/2025-10-14/It2025-10-…</td><td>10</td><td>1.7605e9</td><td>&quot;2025-10-14&quot;</td></tr><tr><td>5</td><td>&quot;2025-10-14&quot;</td><td>&quot;15:16:12&quot;</td><td>&quot;It&quot;</td><td>&quot;It&nbsp;&nbsp;Alisson67&nbsp;&nbsp;VG=-0.35 V&nbsp;&nbsp;VDS…</td><td>&quot;raw_data/2025-10-14/It2025-10-…</td><td>11</td><td>1.7605e9</td><td>&quot;2025-10-14&quot;</td></tr><tr><td>&hellip;</td><td>&hellip;</td><td>&hellip;</td><td>&hellip;</td><td>&hellip;</td><td>&hellip;</td><td>&hellip;</td><td>&hellip;</td><td>&hellip;</td></tr><tr><td>67</td><td>&quot;2025-10-16&quot;</td><td>&quot;15:41:33&quot;</td><td>&quot;IVg&quot;</td><td>&quot;IVg Alisson67&nbsp;&nbsp;VDS=0.1 V&nbsp;&nbsp;VG:-…</td><td>&quot;raw_data/2025-10-16/IVg2025-10…</td><td>7</td><td>1.7606e9</td><td>&quot;2025-10-16&quot;</td></tr><tr><td>68</td><td>&quot;2025-10-16&quot;</td><td>&quot;16:10:30&quot;</td><td>&quot;IVg&quot;</td><td>&quot;IVg Alisson67&nbsp;&nbsp;VDS=0.1 V&nbsp;&nbsp;VG:-…</td><td>&quot;raw_data/2025-10-16/IVg2025-10…</td><td>8</td><td>1.7606e9</td><td>&quot;2025-10-16&quot;</td></tr><tr><td>69</td><td>&quot;2025-10-16&quot;</td><td>&quot;17:37:49&quot;</td><td>&quot;IVg&quot;</td><td>&quot;IVg Alisson67&nbsp;&nbsp;VDS=0.1 V&nbsp;&nbsp;VG:-…</td><td>&quot;raw_data/2025-10-16/IVg2025-10…</td><td>9</td><td>1.7606e9</td><td>&quot;2025-10-16&quot;</td></tr><tr><td>70</td><td>&quot;2025-10-16&quot;</td><td>&quot;23:57:44&quot;</td><td>&quot;IVg&quot;</td><td>&quot;IVg Alisson67&nbsp;&nbsp;VDS=0.1 V&nbsp;&nbsp;VG:-…</td><td>&quot;raw_data/2025-10-16/IVg2025-10…</td><td>10</td><td>1.7607e9</td><td>&quot;2025-10-16&quot;</td></tr><tr><td>71</td><td>&quot;2025-10-16&quot;</td><td>&quot;23:58:59&quot;</td><td>&quot;IVg&quot;</td><td>&quot;IVg Alisson67&nbsp;&nbsp;VDS=0.1 V&nbsp;&nbsp;VG:-…</td><td>&quot;raw_data/2025-10-16/IVg2025-10…</td><td>11</td><td>1.7607e9</td><td>&quot;2025-10-16&quot;</td></tr></tbody></table></div>"
      ],
      "text/plain": [
       "shape: (71, 9)\n",
       "┌─────┬────────────┬──────────┬──────┬───┬────────────────┬──────────┬────────────┬────────────────┐\n",
       "│ seq ┆ date       ┆ time_hms ┆ proc ┆ … ┆ source_file    ┆ file_idx ┆ start_time ┆ day_folder     │\n",
       "│ --- ┆ ---        ┆ ---      ┆ ---  ┆   ┆ ---            ┆ ---      ┆ ---        ┆ ---            │\n",
       "│ i64 ┆ str        ┆ str      ┆ str  ┆   ┆ str            ┆ i64      ┆ f64        ┆ str            │\n",
       "╞═════╪════════════╪══════════╪══════╪═══╪════════════════╪══════════╪════════════╪════════════════╡\n",
       "│ 1   ┆ 2025-09-08 ┆ 12:26:20 ┆ IVg  ┆ … ┆ raw_data/Aliss ┆ 1        ┆ 1.7573e9   ┆ Alisson_08_sep │\n",
       "│     ┆            ┆          ┆      ┆   ┆ on_08_sept/IVg ┆          ┆            ┆ t              │\n",
       "│     ┆            ┆          ┆      ┆   ┆ 20…            ┆          ┆            ┆                │\n",
       "│ 2   ┆ 2025-10-14 ┆ 15:03:53 ┆ IVg  ┆ … ┆ raw_data/2025- ┆ 6        ┆ 1.7605e9   ┆ 2025-10-14     │\n",
       "│     ┆            ┆          ┆      ┆   ┆ 10-14/IVg2025- ┆          ┆            ┆                │\n",
       "│     ┆            ┆          ┆      ┆   ┆ 10…            ┆          ┆            ┆                │\n",
       "│ 3   ┆ 2025-10-14 ┆ 15:12:05 ┆ IVg  ┆ … ┆ raw_data/2025- ┆ 7        ┆ 1.7605e9   ┆ 2025-10-14     │\n",
       "│     ┆            ┆          ┆      ┆   ┆ 10-14/IVg2025- ┆          ┆            ┆                │\n",
       "│     ┆            ┆          ┆      ┆   ┆ 10…            ┆          ┆            ┆                │\n",
       "│ 4   ┆ 2025-10-14 ┆ 15:13:12 ┆ It   ┆ … ┆ raw_data/2025- ┆ 10       ┆ 1.7605e9   ┆ 2025-10-14     │\n",
       "│     ┆            ┆          ┆      ┆   ┆ 10-14/It2025-1 ┆          ┆            ┆                │\n",
       "│     ┆            ┆          ┆      ┆   ┆ 0-…            ┆          ┆            ┆                │\n",
       "│ 5   ┆ 2025-10-14 ┆ 15:16:12 ┆ It   ┆ … ┆ raw_data/2025- ┆ 11       ┆ 1.7605e9   ┆ 2025-10-14     │\n",
       "│     ┆            ┆          ┆      ┆   ┆ 10-14/It2025-1 ┆          ┆            ┆                │\n",
       "│     ┆            ┆          ┆      ┆   ┆ 0-…            ┆          ┆            ┆                │\n",
       "│ …   ┆ …          ┆ …        ┆ …    ┆ … ┆ …              ┆ …        ┆ …          ┆ …              │\n",
       "│ 67  ┆ 2025-10-16 ┆ 15:41:33 ┆ IVg  ┆ … ┆ raw_data/2025- ┆ 7        ┆ 1.7606e9   ┆ 2025-10-16     │\n",
       "│     ┆            ┆          ┆      ┆   ┆ 10-16/IVg2025- ┆          ┆            ┆                │\n",
       "│     ┆            ┆          ┆      ┆   ┆ 10…            ┆          ┆            ┆                │\n",
       "│ 68  ┆ 2025-10-16 ┆ 16:10:30 ┆ IVg  ┆ … ┆ raw_data/2025- ┆ 8        ┆ 1.7606e9   ┆ 2025-10-16     │\n",
       "│     ┆            ┆          ┆      ┆   ┆ 10-16/IVg2025- ┆          ┆            ┆                │\n",
       "│     ┆            ┆          ┆      ┆   ┆ 10…            ┆          ┆            ┆                │\n",
       "│ 69  ┆ 2025-10-16 ┆ 17:37:49 ┆ IVg  ┆ … ┆ raw_data/2025- ┆ 9        ┆ 1.7606e9   ┆ 2025-10-16     │\n",
       "│     ┆            ┆          ┆      ┆   ┆ 10-16/IVg2025- ┆          ┆            ┆                │\n",
       "│     ┆            ┆          ┆      ┆   ┆ 10…            ┆          ┆            ┆                │\n",
       "│ 70  ┆ 2025-10-16 ┆ 23:57:44 ┆ IVg  ┆ … ┆ raw_data/2025- ┆ 10       ┆ 1.7607e9   ┆ 2025-10-16     │\n",
       "│     ┆            ┆          ┆      ┆   ┆ 10-16/IVg2025- ┆          ┆            ┆                │\n",
       "│     ┆            ┆          ┆      ┆   ┆ 10…            ┆          ┆            ┆                │\n",
       "│ 71  ┆ 2025-10-16 ┆ 23:58:59 ┆ IVg  ┆ … ┆ raw_data/2025- ┆ 11       ┆ 1.7607e9   ┆ 2025-10-16     │\n",
       "│     ┆            ┆          ┆      ┆   ┆ 10-16/IVg2025- ┆          ┆            ┆                │\n",
       "│     ┆            ┆          ┆      ┆   ┆ 10…            ┆          ┆            ┆                │\n",
       "└─────┴────────────┴──────────┴──────┴───┴────────────────┴──────────┴────────────┴────────────────┘"
      ]
     },
     "execution_count": 6,
     "metadata": {},
     "output_type": "execute_result"
    }
   ],
   "source": [
    "from pathlib import Path\n",
    "from src.timeline import print_chip_history\n",
    "\n",
    "print_chip_history(\n",
    "    metadata_dir=Path(\"metadata\"),\n",
    "    raw_data_dir=Path(\"raw_data\"),\n",
    "    chip_number=67,\n",
    "    chip_group_name=\"Alisson\"\n",
    ")"
   ]
  }
 ],
 "metadata": {
  "kernelspec": {
   "display_name": "python-lab",
   "language": "python",
   "name": "python3"
  },
  "language_info": {
   "codemirror_mode": {
    "name": "ipython",
    "version": 3
   },
   "file_extension": ".py",
   "mimetype": "text/x-python",
   "name": "python",
   "nbconvert_exporter": "python",
   "pygments_lexer": "ipython3",
   "version": "3.11.13"
  }
 },
 "nbformat": 4,
 "nbformat_minor": 5
}
